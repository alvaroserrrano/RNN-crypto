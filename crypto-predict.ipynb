{
 "cells": [
  {
   "cell_type": "code",
   "execution_count": 28,
   "source": [
    "# import libraries\n",
    "import random\n",
    "from collections import deque\n",
    "from pathlib import Path\n",
    "\n",
    "import matplotlib.pyplot as plt\n",
    "import numpy as np\n",
    "import pandas as pd\n",
    "import requests\n",
    "from sklearn import preprocessing\n",
    "from tensorflow.keras.layers import LSTM, Dense, Dropout\n",
    "\n",
    "# Keras libraries\n",
    "from tensorflow.keras.models import Sequential"
   ],
   "outputs": [],
   "metadata": {
    "ExecuteTime": {
     "end_time": "2021-09-13T13:12:01.693529Z",
     "start_time": "2021-09-13T13:12:01.693512Z"
    }
   }
  },
  {
   "cell_type": "code",
   "execution_count": 29,
   "source": [
    "PRECEDING_PRICES = 60  # preceeding 60 days prices\n",
    "FUTURE_PRICES_PREDICT = 3  # how far into the future to predict\n",
    "TO_PREDICT = \"Bitcoin\""
   ],
   "outputs": [],
   "metadata": {}
  },
  {
   "cell_type": "code",
   "execution_count": 30,
   "source": [
    "# read datasets and join them\n",
    "data_directory: Path = Path(\"./cryptocurrency-historical-prices\")\n",
    "main_df = pd.DataFrame()\n",
    "for file in data_directory.iterdir():\n",
    "    if file.is_file() and file.suffix == \".csv\":\n",
    "        cryptocurrency_name = file.name.split(\"_\")[1].split(\".\")[\n",
    "            0\n",
    "        ]  # Bitcoin, Aave, Cardano, Solana, Dogecoin, etc.\n",
    "    df = pd.read_csv(f\"{data_directory.name}/{file.name}\", names = [\"SNo\", \"Name\", \"Symbol\", \"Date\", \"High\", \"Low\", \"Open\", \"Close\", \"Volume\", \"Marketcap\"], parse_dates=True)\n",
    "    # rename to distinguish the cryptocurrency we are working with\n",
    "    df.rename(columns={\"Close\": f\"{cryptocurrency_name}_close\", \"Volume\": f\"{cryptocurrency_name}_volume\"}, inplace=True)\n",
    "    # set time as index so we can join the dataframes\n",
    "    df.set_index(\"Date\", inplace=True)\n",
    "    # drop columns we are not interested in\n",
    "    df = df[[f\"{cryptocurrency_name}_close\", f\"{cryptocurrency_name}_volume\"]]\n",
    "    # df.fillna(method=\"ffill\", inplace=True)\n",
    "    main_df = df if len(main_df) == 0 else main_df.join(df)\n",
    "# use previous valid value if there are gaps in the data\n",
    "main_df.fillna(method=\"ffill\", inplace=True) \n",
    "# main_df.fillna(method=\"bfill\", inplace=True)\n",
    "main_df.dropna(how=\"all\", inplace=True)\n",
    "print(main_df.head())"
   ],
   "outputs": [
    {
     "output_type": "stream",
     "name": "stdout",
     "text": [
      "                     NEM_close    NEM_volume  EOS_close  EOS_volume  \\\n",
      "Date                                                                  \n",
      "2015-04-02 23:59:59   0.000314  28549.400391        NaN         NaN   \n",
      "2015-04-03 23:59:59   0.000310  20677.900391        NaN         NaN   \n",
      "2015-04-04 23:59:59   0.000277  23550.199219        NaN         NaN   \n",
      "2015-04-05 23:59:59   0.000232  26800.199219        NaN         NaN   \n",
      "2015-04-06 23:59:59   0.000289  22511.500000        NaN         NaN   \n",
      "\n",
      "                     Monero_close  Monero_volume  Polkadot_close  \\\n",
      "Date                                                               \n",
      "2015-04-02 23:59:59      0.969260   88831.296875             NaN   \n",
      "2015-04-03 23:59:59      0.952245  139293.000000             NaN   \n",
      "2015-04-04 23:59:59      0.859290  128977.000000             NaN   \n",
      "2015-04-05 23:59:59      0.883731  143439.000000             NaN   \n",
      "2015-04-06 23:59:59      0.789463   38050.898438             NaN   \n",
      "\n",
      "                     Polkadot_volume  USDCoin_close  USDCoin_volume  ...  \\\n",
      "Date                                                                 ...   \n",
      "2015-04-02 23:59:59              NaN            NaN             NaN  ...   \n",
      "2015-04-03 23:59:59              NaN            NaN             NaN  ...   \n",
      "2015-04-04 23:59:59              NaN            NaN             NaN  ...   \n",
      "2015-04-05 23:59:59              NaN            NaN             NaN  ...   \n",
      "2015-04-06 23:59:59              NaN            NaN             NaN  ...   \n",
      "\n",
      "                     Tron_close  Tron_volume  Stellar_close  Stellar_volume  \\\n",
      "Date                                                                          \n",
      "2015-04-02 23:59:59         NaN          NaN       0.002664    16447.699219   \n",
      "2015-04-03 23:59:59         NaN          NaN       0.002768    15430.200195   \n",
      "2015-04-04 23:59:59         NaN          NaN       0.002690     9276.230469   \n",
      "2015-04-05 23:59:59         NaN          NaN       0.002666    12082.400391   \n",
      "2015-04-06 23:59:59         NaN          NaN       0.002589    11074.900391   \n",
      "\n",
      "                     CryptocomCoin_close  CryptocomCoin_volume  \\\n",
      "Date                                                             \n",
      "2015-04-02 23:59:59                  NaN                   NaN   \n",
      "2015-04-03 23:59:59                  NaN                   NaN   \n",
      "2015-04-04 23:59:59                  NaN                   NaN   \n",
      "2015-04-05 23:59:59                  NaN                   NaN   \n",
      "2015-04-06 23:59:59                  NaN                   NaN   \n",
      "\n",
      "                     Dogecoin_close  Dogecoin_volume  WrappedBitcoin_close  \\\n",
      "Date                                                                         \n",
      "2015-04-02 23:59:59        0.000129     32332.900391                   NaN   \n",
      "2015-04-03 23:59:59        0.000129     39752.199219                   NaN   \n",
      "2015-04-04 23:59:59        0.000128     27405.300781                   NaN   \n",
      "2015-04-05 23:59:59        0.000127     66699.296875                   NaN   \n",
      "2015-04-06 23:59:59        0.000124     39166.699219                   NaN   \n",
      "\n",
      "                     WrappedBitcoin_volume  \n",
      "Date                                        \n",
      "2015-04-02 23:59:59                    NaN  \n",
      "2015-04-03 23:59:59                    NaN  \n",
      "2015-04-04 23:59:59                    NaN  \n",
      "2015-04-05 23:59:59                    NaN  \n",
      "2015-04-06 23:59:59                    NaN  \n",
      "\n",
      "[5 rows x 46 columns]\n"
     ]
    }
   ],
   "metadata": {
    "ExecuteTime": {
     "end_time": "2021-09-12T13:43:20.151383Z",
     "start_time": "2021-09-12T13:43:20.148675Z"
    }
   }
  },
  {
   "cell_type": "code",
   "execution_count": 31,
   "source": [
    "def make_order_decision(current_price, future_price):\n",
    "\tif float(current_price) < float(future_price): \n",
    "\t\treturn 1 # buy order\n",
    "\telse:\n",
    "\t\treturn 0"
   ],
   "outputs": [],
   "metadata": {}
  },
  {
   "cell_type": "code",
   "execution_count": 32,
   "source": [
    "# create column with the target future value\n",
    "main_df[\"future_price_to_predict\"] = main_df[f\"{TO_PREDICT}_close\"].shift(-FUTURE_PRICES_PREDICT) # negative to shift columnn up\n",
    "# main_df[\"future_price_to_predict\"] = main_df[\"future_price_to_predict\"].astype(float)\n",
    "main_df[\"order_decision\"] = list(map(make_order_decision, main_df[f\"{TO_PREDICT}_close\"], main_df[\"future_price_to_predict\"]))\n",
    "main_df = main_df.dropna()\n",
    "print(main_df.head())"
   ],
   "outputs": [
    {
     "output_type": "stream",
     "name": "stdout",
     "text": [
      "                     NEM_close    NEM_volume  EOS_close    EOS_volume  \\\n",
      "Date                                                                    \n",
      "2020-10-05 23:59:59   0.122335  3.187050e+07   2.529068  1.865500e+09   \n",
      "2020-10-06 23:59:59   0.117298  2.983882e+07   2.693054  5.184280e+09   \n",
      "2020-10-07 23:59:59   0.117939  2.089961e+07   2.646043  3.073509e+09   \n",
      "2020-10-08 23:59:59   0.119316  2.296033e+07   2.609671  2.628172e+09   \n",
      "2020-10-09 23:59:59   0.119971  2.442877e+07   2.645295  2.196491e+09   \n",
      "\n",
      "                     Monero_close  Monero_volume  Polkadot_close  \\\n",
      "Date                                                               \n",
      "2020-10-05 23:59:59    112.903248   7.640756e+08        4.172700   \n",
      "2020-10-06 23:59:59    106.665996   7.967904e+08        3.756162   \n",
      "2020-10-07 23:59:59    109.989031   9.658406e+08        3.858798   \n",
      "2020-10-08 23:59:59    110.909933   8.347165e+08        4.102642   \n",
      "2020-10-09 23:59:59    116.034673   8.691367e+08        4.262468   \n",
      "\n",
      "                     Polkadot_volume  USDCoin_close  USDCoin_volume  ...  \\\n",
      "Date                                                                 ...   \n",
      "2020-10-05 23:59:59     3.322647e+08       1.000472    3.609181e+08  ...   \n",
      "2020-10-06 23:59:59     6.622707e+08       1.000883    4.250312e+08  ...   \n",
      "2020-10-07 23:59:59     6.290635e+08       1.000168    3.742543e+08  ...   \n",
      "2020-10-08 23:59:59     6.142231e+08       1.000431    2.998150e+08  ...   \n",
      "2020-10-09 23:59:59     4.915066e+08       1.000727    3.277273e+08  ...   \n",
      "\n",
      "                     Stellar_close  Stellar_volume  CryptocomCoin_close  \\\n",
      "Date                                                                      \n",
      "2020-10-05 23:59:59       0.073419    1.266637e+08             0.150009   \n",
      "2020-10-06 23:59:59       0.072501    1.616234e+08             0.147198   \n",
      "2020-10-07 23:59:59       0.072301    1.336499e+08             0.147583   \n",
      "2020-10-08 23:59:59       0.073095    1.312797e+08             0.150626   \n",
      "2020-10-09 23:59:59       0.075144    1.564609e+08             0.152428   \n",
      "\n",
      "                     CryptocomCoin_volume  Dogecoin_close  Dogecoin_volume  \\\n",
      "Date                                                                         \n",
      "2020-10-05 23:59:59          6.260535e+07        0.002612     1.278810e+08   \n",
      "2020-10-06 23:59:59          5.976836e+07        0.002611     1.056699e+08   \n",
      "2020-10-07 23:59:59          5.366980e+07        0.002595     1.255235e+08   \n",
      "2020-10-08 23:59:59          6.380734e+07        0.002596     1.093561e+08   \n",
      "2020-10-09 23:59:59          5.967840e+07        0.002653     1.000515e+08   \n",
      "\n",
      "                     WrappedBitcoin_close  WrappedBitcoin_volume  \\\n",
      "Date                                                               \n",
      "2020-10-05 23:59:59          10798.551697           3.834674e+07   \n",
      "2020-10-06 23:59:59          10612.537839           5.282897e+07   \n",
      "2020-10-07 23:59:59          10670.392931           4.221160e+07   \n",
      "2020-10-08 23:59:59          10908.859624           4.470989e+07   \n",
      "2020-10-09 23:59:59          11071.433697           5.453694e+07   \n",
      "\n",
      "                     future_price_to_predict  order_decision  \n",
      "Date                                                          \n",
      "2020-10-05 23:59:59             10915.685731               1  \n",
      "2020-10-06 23:59:59             11064.457592               1  \n",
      "2020-10-07 23:59:59             11296.361428               1  \n",
      "2020-10-08 23:59:59             11384.181953               1  \n",
      "2020-10-09 23:59:59             11555.362888               1  \n",
      "\n",
      "[5 rows x 48 columns]\n"
     ]
    }
   ],
   "metadata": {}
  },
  {
   "cell_type": "code",
   "execution_count": 33,
   "source": [
    "# normalize data except for the order_decision column\n",
    "def normalize_and_scale_df(df):\n",
    "\t# no longer need future_price_to_predict column\n",
    "\tdf = df.drop(\"future_price_to_predict\", axis=1)\n",
    "\n",
    "\tfor column in df.columns:\n",
    "\t\tif column != \"order_decision\":\n",
    "\t\t\t# normalize data based on percentrage\n",
    "\t\t\tdf[column] = df[column].pct_change()\n",
    "\t\t\tdf.dropna(inplace=True)\n",
    "\t\t\t# scale values between 0 and 1\n",
    "\t\t\tdf[column] = preprocessing.scale(df[column].values) \n",
    "\tdf.dropna(inplace=True)\n",
    "\n",
    "\tpredictions_sequence = []\n",
    "\tprevious_days_sequence = deque(maxlen=PRECEDING_PRICES)\t\n",
    "\n",
    "\tfor value in df.values:\n",
    "\t\t# do not include the target in the sequence\n",
    "\t\tprevious_days_sequence.append([i for i in value[:-1]])\n",
    "\t\t# only keep last PRECEDING_PRICES observations\n",
    "\t\tif len(previous_days_sequence) == PRECEDING_PRICES:\n",
    "\t\t\tpredictions_sequence.append([np.array(previous_days_sequence), value[-1]])\n",
    "\t# shuffle sequential data for good measure\n",
    "\trandom.shuffle(predictions_sequence)\n",
    "\n",
    "\tbuy_orders = []\n",
    "\tnot_buy_orders = []\n",
    "\n",
    "\tfor sequence, order_decision in predictions_sequence:\n",
    "\t\tif order_decision == 1:\n",
    "\t\t\tbuy_orders.append([sequence, order_decision])\n",
    "\t\telse:\n",
    "\t\t\tnot_buy_orders.append([sequence, order_decision])\n",
    "\t\n",
    "\trandom.shuffle(buy_orders)\n",
    "\trandom.shuffle(not_buy_orders)\n",
    "\n",
    "\t# ensure both buy and not buy orders are the same length\n",
    "\tshorter_sequence = min(len(buy_orders), len(not_buy_orders))\n",
    "\tbuy_orders = buy_orders[:shorter_sequence]\n",
    "\tnot_buy_orders = not_buy_orders[:shorter_sequence]\n",
    "\n",
    "\t# combine buy and not buy orders into predictions_sequence\n",
    "\tpredictions_sequence = buy_orders + not_buy_orders\n",
    "\trandom.shuffle(predictions_sequence)\n",
    "\n",
    "\tx_data = []\n",
    "\ty_data = []\n",
    "\n",
    "\tfor sequence, order_decision in predictions_sequence:\n",
    "\t\tx_data.append(sequence) # sequence is the input\n",
    "\t\ty_data.append(order_decision) # buy or not to buy\n",
    "\t \n",
    "\treturn np.array(x_data), y_data"
   ],
   "outputs": [],
   "metadata": {}
  },
  {
   "cell_type": "code",
   "execution_count": 34,
   "source": [
    "# data will not be shuffled due to the nature of the data, which is sequential\n",
    "# taking sequences of data that do not come in the future is likely a bad idea\n",
    "# make_order_decision will usually be the same for data points 1 minute apart\n",
    "sorted_dates = sorted(main_df.index.values)\n",
    "last_5_percent = sorted_dates[-int(len(sorted_dates) * 0.05)]\n",
    "\n",
    "test_df = main_df[(main_df.index >= last_5_percent)]\n",
    "print(f\"Shape of test data: {test_df.shape}\")\n",
    "main_df = main_df[(main_df.index < last_5_percent)]\n",
    "print(f\"Shape of training data: {main_df.shape}\")\n",
    "\n",
    "# train test split\n",
    "# normalize and scale training data\n",
    "x_train, y_train = normalize_and_scale_df(main_df)\n",
    "# normalize and scale test data\n",
    "x_test, y_test = normalize_and_scale_df(test_df)\n",
    "\n",
    "print(f\"train data: {len(x_train)} test data: {len(x_test)}\")\n",
    "print(f\"Train Dont buys: {y_train.count(0)}, buys: {y_train.count(1)}\")\n",
    "print(f\"Test Dont buys: {y_test.count(0)}, buys: {y_test.count(1)}\")"
   ],
   "outputs": [
    {
     "output_type": "stream",
     "name": "stdout",
     "text": [
      "Shape of test data: (13, 48)\n",
      "Shape of training data: (259, 48)\n"
     ]
    },
    {
     "output_type": "error",
     "ename": "ValueError",
     "evalue": "Found array with 0 sample(s) (shape=(0,)) while a minimum of 1 is required by the scale function.",
     "traceback": [
      "\u001b[0;31m---------------------------------------------------------------------------\u001b[0m",
      "\u001b[0;31mValueError\u001b[0m                                Traceback (most recent call last)",
      "\u001b[0;32m/var/folders/tc/8qx_qhb91gj75ryhvz_t9td80000gn/T/ipykernel_11959/3969296150.py\u001b[0m in \u001b[0;36m<module>\u001b[0;34m\u001b[0m\n\u001b[1;32m     14\u001b[0m \u001b[0mx_train\u001b[0m\u001b[0;34m,\u001b[0m \u001b[0my_train\u001b[0m \u001b[0;34m=\u001b[0m \u001b[0mnormalize_and_scale_df\u001b[0m\u001b[0;34m(\u001b[0m\u001b[0mmain_df\u001b[0m\u001b[0;34m)\u001b[0m\u001b[0;34m\u001b[0m\u001b[0;34m\u001b[0m\u001b[0m\n\u001b[1;32m     15\u001b[0m \u001b[0;31m# normalize and scale test data\u001b[0m\u001b[0;34m\u001b[0m\u001b[0;34m\u001b[0m\u001b[0;34m\u001b[0m\u001b[0m\n\u001b[0;32m---> 16\u001b[0;31m \u001b[0mx_test\u001b[0m\u001b[0;34m,\u001b[0m \u001b[0my_test\u001b[0m \u001b[0;34m=\u001b[0m \u001b[0mnormalize_and_scale_df\u001b[0m\u001b[0;34m(\u001b[0m\u001b[0mtest_df\u001b[0m\u001b[0;34m)\u001b[0m\u001b[0;34m\u001b[0m\u001b[0;34m\u001b[0m\u001b[0m\n\u001b[0m\u001b[1;32m     17\u001b[0m \u001b[0;34m\u001b[0m\u001b[0m\n\u001b[1;32m     18\u001b[0m \u001b[0mprint\u001b[0m\u001b[0;34m(\u001b[0m\u001b[0;34mf\"train data: {len(x_train)} test data: {len(x_test)}\"\u001b[0m\u001b[0;34m)\u001b[0m\u001b[0;34m\u001b[0m\u001b[0;34m\u001b[0m\u001b[0m\n",
      "\u001b[0;32m/var/folders/tc/8qx_qhb91gj75ryhvz_t9td80000gn/T/ipykernel_11959/2095925355.py\u001b[0m in \u001b[0;36mnormalize_and_scale_df\u001b[0;34m(df)\u001b[0m\n\u001b[1;32m     10\u001b[0m                         \u001b[0mdf\u001b[0m\u001b[0;34m.\u001b[0m\u001b[0mdropna\u001b[0m\u001b[0;34m(\u001b[0m\u001b[0minplace\u001b[0m\u001b[0;34m=\u001b[0m\u001b[0;32mTrue\u001b[0m\u001b[0;34m)\u001b[0m\u001b[0;34m\u001b[0m\u001b[0;34m\u001b[0m\u001b[0m\n\u001b[1;32m     11\u001b[0m                         \u001b[0;31m# scale values between 0 and 1\u001b[0m\u001b[0;34m\u001b[0m\u001b[0;34m\u001b[0m\u001b[0;34m\u001b[0m\u001b[0m\n\u001b[0;32m---> 12\u001b[0;31m                         \u001b[0mdf\u001b[0m\u001b[0;34m[\u001b[0m\u001b[0mcolumn\u001b[0m\u001b[0;34m]\u001b[0m \u001b[0;34m=\u001b[0m \u001b[0mpreprocessing\u001b[0m\u001b[0;34m.\u001b[0m\u001b[0mscale\u001b[0m\u001b[0;34m(\u001b[0m\u001b[0mdf\u001b[0m\u001b[0;34m[\u001b[0m\u001b[0mcolumn\u001b[0m\u001b[0;34m]\u001b[0m\u001b[0;34m.\u001b[0m\u001b[0mvalues\u001b[0m\u001b[0;34m)\u001b[0m\u001b[0;34m\u001b[0m\u001b[0;34m\u001b[0m\u001b[0m\n\u001b[0m\u001b[1;32m     13\u001b[0m         \u001b[0mdf\u001b[0m\u001b[0;34m.\u001b[0m\u001b[0mdropna\u001b[0m\u001b[0;34m(\u001b[0m\u001b[0minplace\u001b[0m\u001b[0;34m=\u001b[0m\u001b[0;32mTrue\u001b[0m\u001b[0;34m)\u001b[0m\u001b[0;34m\u001b[0m\u001b[0;34m\u001b[0m\u001b[0m\n\u001b[1;32m     14\u001b[0m \u001b[0;34m\u001b[0m\u001b[0m\n",
      "\u001b[0;32m~/projects/cs5820/crypto-RNN/venv/lib/python3.8/site-packages/sklearn/utils/validation.py\u001b[0m in \u001b[0;36minner_f\u001b[0;34m(*args, **kwargs)\u001b[0m\n\u001b[1;32m     61\u001b[0m             \u001b[0mextra_args\u001b[0m \u001b[0;34m=\u001b[0m \u001b[0mlen\u001b[0m\u001b[0;34m(\u001b[0m\u001b[0margs\u001b[0m\u001b[0;34m)\u001b[0m \u001b[0;34m-\u001b[0m \u001b[0mlen\u001b[0m\u001b[0;34m(\u001b[0m\u001b[0mall_args\u001b[0m\u001b[0;34m)\u001b[0m\u001b[0;34m\u001b[0m\u001b[0;34m\u001b[0m\u001b[0m\n\u001b[1;32m     62\u001b[0m             \u001b[0;32mif\u001b[0m \u001b[0mextra_args\u001b[0m \u001b[0;34m<=\u001b[0m \u001b[0;36m0\u001b[0m\u001b[0;34m:\u001b[0m\u001b[0;34m\u001b[0m\u001b[0;34m\u001b[0m\u001b[0m\n\u001b[0;32m---> 63\u001b[0;31m                 \u001b[0;32mreturn\u001b[0m \u001b[0mf\u001b[0m\u001b[0;34m(\u001b[0m\u001b[0;34m*\u001b[0m\u001b[0margs\u001b[0m\u001b[0;34m,\u001b[0m \u001b[0;34m**\u001b[0m\u001b[0mkwargs\u001b[0m\u001b[0;34m)\u001b[0m\u001b[0;34m\u001b[0m\u001b[0;34m\u001b[0m\u001b[0m\n\u001b[0m\u001b[1;32m     64\u001b[0m \u001b[0;34m\u001b[0m\u001b[0m\n\u001b[1;32m     65\u001b[0m             \u001b[0;31m# extra_args > 0\u001b[0m\u001b[0;34m\u001b[0m\u001b[0;34m\u001b[0m\u001b[0;34m\u001b[0m\u001b[0m\n",
      "\u001b[0;32m~/projects/cs5820/crypto-RNN/venv/lib/python3.8/site-packages/sklearn/preprocessing/_data.py\u001b[0m in \u001b[0;36mscale\u001b[0;34m(X, axis, with_mean, with_std, copy)\u001b[0m\n\u001b[1;32m    159\u001b[0m \u001b[0;34m\u001b[0m\u001b[0m\n\u001b[1;32m    160\u001b[0m     \"\"\"  # noqa\n\u001b[0;32m--> 161\u001b[0;31m     X = check_array(X, accept_sparse='csc', copy=copy, ensure_2d=False,\n\u001b[0m\u001b[1;32m    162\u001b[0m                     \u001b[0mestimator\u001b[0m\u001b[0;34m=\u001b[0m\u001b[0;34m'the scale function'\u001b[0m\u001b[0;34m,\u001b[0m \u001b[0mdtype\u001b[0m\u001b[0;34m=\u001b[0m\u001b[0mFLOAT_DTYPES\u001b[0m\u001b[0;34m,\u001b[0m\u001b[0;34m\u001b[0m\u001b[0;34m\u001b[0m\u001b[0m\n\u001b[1;32m    163\u001b[0m                     force_all_finite='allow-nan')\n",
      "\u001b[0;32m~/projects/cs5820/crypto-RNN/venv/lib/python3.8/site-packages/sklearn/utils/validation.py\u001b[0m in \u001b[0;36minner_f\u001b[0;34m(*args, **kwargs)\u001b[0m\n\u001b[1;32m     61\u001b[0m             \u001b[0mextra_args\u001b[0m \u001b[0;34m=\u001b[0m \u001b[0mlen\u001b[0m\u001b[0;34m(\u001b[0m\u001b[0margs\u001b[0m\u001b[0;34m)\u001b[0m \u001b[0;34m-\u001b[0m \u001b[0mlen\u001b[0m\u001b[0;34m(\u001b[0m\u001b[0mall_args\u001b[0m\u001b[0;34m)\u001b[0m\u001b[0;34m\u001b[0m\u001b[0;34m\u001b[0m\u001b[0m\n\u001b[1;32m     62\u001b[0m             \u001b[0;32mif\u001b[0m \u001b[0mextra_args\u001b[0m \u001b[0;34m<=\u001b[0m \u001b[0;36m0\u001b[0m\u001b[0;34m:\u001b[0m\u001b[0;34m\u001b[0m\u001b[0;34m\u001b[0m\u001b[0m\n\u001b[0;32m---> 63\u001b[0;31m                 \u001b[0;32mreturn\u001b[0m \u001b[0mf\u001b[0m\u001b[0;34m(\u001b[0m\u001b[0;34m*\u001b[0m\u001b[0margs\u001b[0m\u001b[0;34m,\u001b[0m \u001b[0;34m**\u001b[0m\u001b[0mkwargs\u001b[0m\u001b[0;34m)\u001b[0m\u001b[0;34m\u001b[0m\u001b[0;34m\u001b[0m\u001b[0m\n\u001b[0m\u001b[1;32m     64\u001b[0m \u001b[0;34m\u001b[0m\u001b[0m\n\u001b[1;32m     65\u001b[0m             \u001b[0;31m# extra_args > 0\u001b[0m\u001b[0;34m\u001b[0m\u001b[0;34m\u001b[0m\u001b[0;34m\u001b[0m\u001b[0m\n",
      "\u001b[0;32m~/projects/cs5820/crypto-RNN/venv/lib/python3.8/site-packages/sklearn/utils/validation.py\u001b[0m in \u001b[0;36mcheck_array\u001b[0;34m(array, accept_sparse, accept_large_sparse, dtype, order, copy, force_all_finite, ensure_2d, allow_nd, ensure_min_samples, ensure_min_features, estimator)\u001b[0m\n\u001b[1;32m    724\u001b[0m         \u001b[0mn_samples\u001b[0m \u001b[0;34m=\u001b[0m \u001b[0m_num_samples\u001b[0m\u001b[0;34m(\u001b[0m\u001b[0marray\u001b[0m\u001b[0;34m)\u001b[0m\u001b[0;34m\u001b[0m\u001b[0;34m\u001b[0m\u001b[0m\n\u001b[1;32m    725\u001b[0m         \u001b[0;32mif\u001b[0m \u001b[0mn_samples\u001b[0m \u001b[0;34m<\u001b[0m \u001b[0mensure_min_samples\u001b[0m\u001b[0;34m:\u001b[0m\u001b[0;34m\u001b[0m\u001b[0;34m\u001b[0m\u001b[0m\n\u001b[0;32m--> 726\u001b[0;31m             raise ValueError(\"Found array with %d sample(s) (shape=%s) while a\"\n\u001b[0m\u001b[1;32m    727\u001b[0m                              \u001b[0;34m\" minimum of %d is required%s.\"\u001b[0m\u001b[0;34m\u001b[0m\u001b[0;34m\u001b[0m\u001b[0m\n\u001b[1;32m    728\u001b[0m                              % (n_samples, array.shape, ensure_min_samples,\n",
      "\u001b[0;31mValueError\u001b[0m: Found array with 0 sample(s) (shape=(0,)) while a minimum of 1 is required by the scale function."
     ]
    }
   ],
   "metadata": {}
  },
  {
   "cell_type": "code",
   "execution_count": null,
   "source": [],
   "outputs": [],
   "metadata": {}
  }
 ],
 "metadata": {
  "kernelspec": {
   "name": "python3",
   "display_name": "Python 3.8.0 64-bit ('venv': venv)"
  },
  "language_info": {
   "codemirror_mode": {
    "name": "ipython",
    "version": 3
   },
   "file_extension": ".py",
   "mimetype": "text/x-python",
   "name": "python",
   "nbconvert_exporter": "python",
   "pygments_lexer": "ipython3",
   "version": "3.8.0"
  },
  "toc": {
   "base_numbering": 1,
   "nav_menu": {},
   "number_sections": true,
   "sideBar": true,
   "skip_h1_title": false,
   "title_cell": "Table of Contents",
   "title_sidebar": "Contents",
   "toc_cell": false,
   "toc_position": {},
   "toc_section_display": true,
   "toc_window_display": false
  },
  "varInspector": {
   "cols": {
    "lenName": 16,
    "lenType": 16,
    "lenVar": 40
   },
   "kernels_config": {
    "python": {
     "delete_cmd_postfix": "",
     "delete_cmd_prefix": "del ",
     "library": "var_list.py",
     "varRefreshCmd": "print(var_dic_list())"
    },
    "r": {
     "delete_cmd_postfix": ") ",
     "delete_cmd_prefix": "rm(",
     "library": "var_list.r",
     "varRefreshCmd": "cat(var_dic_list()) "
    }
   },
   "types_to_exclude": [
    "module",
    "function",
    "builtin_function_or_method",
    "instance",
    "_Feature"
   ],
   "window_display": false
  },
  "interpreter": {
   "hash": "15a757f8f00fad619421bab2b503c8d2e99a7a50c62ea181f51efe2214d5f66c"
  }
 },
 "nbformat": 4,
 "nbformat_minor": 4
}