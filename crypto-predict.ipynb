{
 "cells": [
  {
   "cell_type": "markdown",
   "metadata": {},
   "source": [
    "# Cryptocurrencies Price Prediction using a RNN"
   ]
  },
  {
   "cell_type": "markdown",
   "metadata": {},
   "source": [
    "## Abstract\n",
    "An investment in bitcoin is the equivalent of betting on the increased adoption of this asset. Contrary to the US dollar, which used to be backed by gold and currently is backed by trust on the US government) bitcoin itself has no intrinsic value. This means that bitcoin’s market price is based on the law of supply and demand. Furthermore, bitcoin has a cap on the amount of coins produced, namely 21 million. This makes bitcoin a deflationary asset, which translates into a greater economic value as its supply decreases.\n",
    "This project uses machine learning to test if bitcoin’s market price can be significantly predicted by other Bitcoin’s blockchain features such as market price, hash rate, difficulty adjustment, transactions volume… A RNN (Recurrent Neural Network) will be used to predict a time-series dataset."
   ]
  },
  {
   "cell_type": "markdown",
   "metadata": {},
   "source": [
    "## Goal\n",
    "- Use a RNN to predict against a time-series dataset of 4 cryptocurrencies: BTC, LTC, ETH, BCH\n",
    "- The goal is that the neural network doesn't just memorize our data and that it instead \"generalizes\" and learns the actual problem and patterns associated with it.\n",
    "\n"
   ]
  },
  {
   "cell_type": "markdown",
   "metadata": {},
   "source": [
    "## Input data\n",
    "- The data we'll be using is Open, High, Low, Close, Volume data for Bitcoin, Ethereum, Litecoin and Bitcoin Cash.\n",
    "- Since there are different ways to measure the price (opening price, closing price, high price, low price...) we specify that the model uses the `Close` and `Volume` columns from the input dataset\n",
    "- We're going to be tracking the `Close` and `Volume` every minute for Bitcoin, Litecoin, Ethereum, and Bitcoin Cash."
   ]
  },
  {
   "cell_type": "markdown",
   "metadata": {},
   "source": [
    "### Install Libraries"
   ]
  },
  {
   "cell_type": "code",
   "execution_count": 1,
   "metadata": {},
   "outputs": [
    {
     "name": "stdout",
     "output_type": "stream",
     "text": [
      "Requirement already satisfied: sklearn in /Users/alvaroserranorivas/.pyenv/versions/3.9.2/envs/bitcoin_linear_regression/lib/python3.9/site-packages (0.0)\n",
      "Requirement already satisfied: tensorflow in /Users/alvaroserranorivas/.pyenv/versions/3.9.2/envs/bitcoin_linear_regression/lib/python3.9/site-packages (2.7.0)\n",
      "Requirement already satisfied: keras in /Users/alvaroserranorivas/.pyenv/versions/3.9.2/envs/bitcoin_linear_regression/lib/python3.9/site-packages (2.7.0)\n",
      "Requirement already satisfied: pandas in /Users/alvaroserranorivas/.pyenv/versions/3.9.2/envs/bitcoin_linear_regression/lib/python3.9/site-packages (1.3.4)\n",
      "Requirement already satisfied: numpy in /Users/alvaroserranorivas/.pyenv/versions/3.9.2/envs/bitcoin_linear_regression/lib/python3.9/site-packages (1.21.4)\n",
      "Requirement already satisfied: matplotlib in /Users/alvaroserranorivas/.pyenv/versions/3.9.2/envs/bitcoin_linear_regression/lib/python3.9/site-packages (3.4.3)\n",
      "Requirement already satisfied: scikit-learn in /Users/alvaroserranorivas/.pyenv/versions/3.9.2/envs/bitcoin_linear_regression/lib/python3.9/site-packages (from sklearn) (1.0.1)\n",
      "Requirement already satisfied: termcolor>=1.1.0 in /Users/alvaroserranorivas/.pyenv/versions/3.9.2/envs/bitcoin_linear_regression/lib/python3.9/site-packages (from tensorflow) (1.1.0)\n",
      "Requirement already satisfied: gast<0.5.0,>=0.2.1 in /Users/alvaroserranorivas/.pyenv/versions/3.9.2/envs/bitcoin_linear_regression/lib/python3.9/site-packages (from tensorflow) (0.4.0)\n",
      "Requirement already satisfied: opt-einsum>=2.3.2 in /Users/alvaroserranorivas/.pyenv/versions/3.9.2/envs/bitcoin_linear_regression/lib/python3.9/site-packages (from tensorflow) (3.3.0)\n",
      "Requirement already satisfied: typing-extensions>=3.6.6 in /Users/alvaroserranorivas/.pyenv/versions/3.9.2/envs/bitcoin_linear_regression/lib/python3.9/site-packages (from tensorflow) (3.10.0.2)\n",
      "Requirement already satisfied: wrapt>=1.11.0 in /Users/alvaroserranorivas/.pyenv/versions/3.9.2/envs/bitcoin_linear_regression/lib/python3.9/site-packages (from tensorflow) (1.13.3)\n",
      "Requirement already satisfied: grpcio<2.0,>=1.24.3 in /Users/alvaroserranorivas/.pyenv/versions/3.9.2/envs/bitcoin_linear_regression/lib/python3.9/site-packages (from tensorflow) (1.41.1)\n",
      "Requirement already satisfied: libclang>=9.0.1 in /Users/alvaroserranorivas/.pyenv/versions/3.9.2/envs/bitcoin_linear_regression/lib/python3.9/site-packages (from tensorflow) (12.0.0)\n",
      "Requirement already satisfied: tensorboard~=2.6 in /Users/alvaroserranorivas/.pyenv/versions/3.9.2/envs/bitcoin_linear_regression/lib/python3.9/site-packages (from tensorflow) (2.7.0)\n",
      "Requirement already satisfied: protobuf>=3.9.2 in /Users/alvaroserranorivas/.pyenv/versions/3.9.2/envs/bitcoin_linear_regression/lib/python3.9/site-packages (from tensorflow) (3.19.1)\n",
      "Requirement already satisfied: wheel<1.0,>=0.32.0 in /Users/alvaroserranorivas/.pyenv/versions/3.9.2/envs/bitcoin_linear_regression/lib/python3.9/site-packages (from tensorflow) (0.37.0)\n",
      "Requirement already satisfied: absl-py>=0.4.0 in /Users/alvaroserranorivas/.pyenv/versions/3.9.2/envs/bitcoin_linear_regression/lib/python3.9/site-packages (from tensorflow) (1.0.0)\n",
      "Requirement already satisfied: keras-preprocessing>=1.1.1 in /Users/alvaroserranorivas/.pyenv/versions/3.9.2/envs/bitcoin_linear_regression/lib/python3.9/site-packages (from tensorflow) (1.1.2)\n",
      "Requirement already satisfied: h5py>=2.9.0 in /Users/alvaroserranorivas/.pyenv/versions/3.9.2/envs/bitcoin_linear_regression/lib/python3.9/site-packages (from tensorflow) (3.5.0)\n",
      "Requirement already satisfied: tensorflow-estimator<2.8,~=2.7.0rc0 in /Users/alvaroserranorivas/.pyenv/versions/3.9.2/envs/bitcoin_linear_regression/lib/python3.9/site-packages (from tensorflow) (2.7.0)\n",
      "Requirement already satisfied: tensorflow-io-gcs-filesystem>=0.21.0 in /Users/alvaroserranorivas/.pyenv/versions/3.9.2/envs/bitcoin_linear_regression/lib/python3.9/site-packages (from tensorflow) (0.22.0)\n",
      "Requirement already satisfied: google-pasta>=0.1.1 in /Users/alvaroserranorivas/.pyenv/versions/3.9.2/envs/bitcoin_linear_regression/lib/python3.9/site-packages (from tensorflow) (0.2.0)\n",
      "Requirement already satisfied: flatbuffers<3.0,>=1.12 in /Users/alvaroserranorivas/.pyenv/versions/3.9.2/envs/bitcoin_linear_regression/lib/python3.9/site-packages (from tensorflow) (2.0)\n",
      "Requirement already satisfied: astunparse>=1.6.0 in /Users/alvaroserranorivas/.pyenv/versions/3.9.2/envs/bitcoin_linear_regression/lib/python3.9/site-packages (from tensorflow) (1.6.3)\n",
      "Requirement already satisfied: six>=1.12.0 in /Users/alvaroserranorivas/.pyenv/versions/3.9.2/envs/bitcoin_linear_regression/lib/python3.9/site-packages (from tensorflow) (1.16.0)\n",
      "Requirement already satisfied: pytz>=2017.3 in /Users/alvaroserranorivas/.pyenv/versions/3.9.2/envs/bitcoin_linear_regression/lib/python3.9/site-packages (from pandas) (2021.3)\n",
      "Requirement already satisfied: python-dateutil>=2.7.3 in /Users/alvaroserranorivas/.pyenv/versions/3.9.2/envs/bitcoin_linear_regression/lib/python3.9/site-packages (from pandas) (2.8.2)\n",
      "Requirement already satisfied: pillow>=6.2.0 in /Users/alvaroserranorivas/.pyenv/versions/3.9.2/envs/bitcoin_linear_regression/lib/python3.9/site-packages (from matplotlib) (8.4.0)\n",
      "Requirement already satisfied: pyparsing>=2.2.1 in /Users/alvaroserranorivas/.pyenv/versions/3.9.2/envs/bitcoin_linear_regression/lib/python3.9/site-packages (from matplotlib) (3.0.4)\n",
      "Requirement already satisfied: cycler>=0.10 in /Users/alvaroserranorivas/.pyenv/versions/3.9.2/envs/bitcoin_linear_regression/lib/python3.9/site-packages (from matplotlib) (0.11.0)\n",
      "Requirement already satisfied: kiwisolver>=1.0.1 in /Users/alvaroserranorivas/.pyenv/versions/3.9.2/envs/bitcoin_linear_regression/lib/python3.9/site-packages (from matplotlib) (1.3.2)\n",
      "Requirement already satisfied: threadpoolctl>=2.0.0 in /Users/alvaroserranorivas/.pyenv/versions/3.9.2/envs/bitcoin_linear_regression/lib/python3.9/site-packages (from scikit-learn->sklearn) (3.0.0)\n",
      "Requirement already satisfied: joblib>=0.11 in /Users/alvaroserranorivas/.pyenv/versions/3.9.2/envs/bitcoin_linear_regression/lib/python3.9/site-packages (from scikit-learn->sklearn) (1.1.0)\n",
      "Requirement already satisfied: scipy>=1.1.0 in /Users/alvaroserranorivas/.pyenv/versions/3.9.2/envs/bitcoin_linear_regression/lib/python3.9/site-packages (from scikit-learn->sklearn) (1.7.2)\n",
      "Requirement already satisfied: tensorboard-data-server<0.7.0,>=0.6.0 in /Users/alvaroserranorivas/.pyenv/versions/3.9.2/envs/bitcoin_linear_regression/lib/python3.9/site-packages (from tensorboard~=2.6->tensorflow) (0.6.1)\n",
      "Requirement already satisfied: tensorboard-plugin-wit>=1.6.0 in /Users/alvaroserranorivas/.pyenv/versions/3.9.2/envs/bitcoin_linear_regression/lib/python3.9/site-packages (from tensorboard~=2.6->tensorflow) (1.8.0)\n",
      "Requirement already satisfied: setuptools>=41.0.0 in /Users/alvaroserranorivas/.pyenv/versions/3.9.2/envs/bitcoin_linear_regression/lib/python3.9/site-packages (from tensorboard~=2.6->tensorflow) (49.2.1)\n",
      "Requirement already satisfied: google-auth-oauthlib<0.5,>=0.4.1 in /Users/alvaroserranorivas/.pyenv/versions/3.9.2/envs/bitcoin_linear_regression/lib/python3.9/site-packages (from tensorboard~=2.6->tensorflow) (0.4.6)\n",
      "Requirement already satisfied: requests<3,>=2.21.0 in /Users/alvaroserranorivas/.pyenv/versions/3.9.2/envs/bitcoin_linear_regression/lib/python3.9/site-packages (from tensorboard~=2.6->tensorflow) (2.26.0)\n",
      "Requirement already satisfied: werkzeug>=0.11.15 in /Users/alvaroserranorivas/.pyenv/versions/3.9.2/envs/bitcoin_linear_regression/lib/python3.9/site-packages (from tensorboard~=2.6->tensorflow) (2.0.2)\n",
      "Requirement already satisfied: markdown>=2.6.8 in /Users/alvaroserranorivas/.pyenv/versions/3.9.2/envs/bitcoin_linear_regression/lib/python3.9/site-packages (from tensorboard~=2.6->tensorflow) (3.3.4)\n",
      "Requirement already satisfied: google-auth<3,>=1.6.3 in /Users/alvaroserranorivas/.pyenv/versions/3.9.2/envs/bitcoin_linear_regression/lib/python3.9/site-packages (from tensorboard~=2.6->tensorflow) (2.3.3)\n",
      "Requirement already satisfied: requests-oauthlib>=0.7.0 in /Users/alvaroserranorivas/.pyenv/versions/3.9.2/envs/bitcoin_linear_regression/lib/python3.9/site-packages (from google-auth-oauthlib<0.5,>=0.4.1->tensorboard~=2.6->tensorflow) (1.3.0)\n",
      "Requirement already satisfied: certifi>=2017.4.17 in /Users/alvaroserranorivas/.pyenv/versions/3.9.2/envs/bitcoin_linear_regression/lib/python3.9/site-packages (from requests<3,>=2.21.0->tensorboard~=2.6->tensorflow) (2021.10.8)\n",
      "Requirement already satisfied: urllib3<1.27,>=1.21.1 in /Users/alvaroserranorivas/.pyenv/versions/3.9.2/envs/bitcoin_linear_regression/lib/python3.9/site-packages (from requests<3,>=2.21.0->tensorboard~=2.6->tensorflow) (1.26.7)\n",
      "Requirement already satisfied: idna<4,>=2.5; python_version >= \"3\" in /Users/alvaroserranorivas/.pyenv/versions/3.9.2/envs/bitcoin_linear_regression/lib/python3.9/site-packages (from requests<3,>=2.21.0->tensorboard~=2.6->tensorflow) (3.3)\n",
      "Requirement already satisfied: charset-normalizer~=2.0.0; python_version >= \"3\" in /Users/alvaroserranorivas/.pyenv/versions/3.9.2/envs/bitcoin_linear_regression/lib/python3.9/site-packages (from requests<3,>=2.21.0->tensorboard~=2.6->tensorflow) (2.0.7)\n",
      "Requirement already satisfied: pyasn1-modules>=0.2.1 in /Users/alvaroserranorivas/.pyenv/versions/3.9.2/envs/bitcoin_linear_regression/lib/python3.9/site-packages (from google-auth<3,>=1.6.3->tensorboard~=2.6->tensorflow) (0.2.8)\n",
      "Requirement already satisfied: rsa<5,>=3.1.4; python_version >= \"3.6\" in /Users/alvaroserranorivas/.pyenv/versions/3.9.2/envs/bitcoin_linear_regression/lib/python3.9/site-packages (from google-auth<3,>=1.6.3->tensorboard~=2.6->tensorflow) (4.7.2)\n",
      "Requirement already satisfied: cachetools<5.0,>=2.0.0 in /Users/alvaroserranorivas/.pyenv/versions/3.9.2/envs/bitcoin_linear_regression/lib/python3.9/site-packages (from google-auth<3,>=1.6.3->tensorboard~=2.6->tensorflow) (4.2.4)\n",
      "Requirement already satisfied: oauthlib>=3.0.0 in /Users/alvaroserranorivas/.pyenv/versions/3.9.2/envs/bitcoin_linear_regression/lib/python3.9/site-packages (from requests-oauthlib>=0.7.0->google-auth-oauthlib<0.5,>=0.4.1->tensorboard~=2.6->tensorflow) (3.1.1)\n",
      "Requirement already satisfied: pyasn1<0.5.0,>=0.4.6 in /Users/alvaroserranorivas/.pyenv/versions/3.9.2/envs/bitcoin_linear_regression/lib/python3.9/site-packages (from pyasn1-modules>=0.2.1->google-auth<3,>=1.6.3->tensorboard~=2.6->tensorflow) (0.4.8)\n",
      "\u001b[33mWARNING: You are using pip version 20.2.3; however, version 21.3.1 is available.\n",
      "You should consider upgrading via the '/Users/alvaroserranorivas/.pyenv/versions/3.9.2/envs/bitcoin_linear_regression/bin/python3.9 -m pip install --upgrade pip' command.\u001b[0m\n"
     ]
    }
   ],
   "source": [
    "!pip install sklearn tensorflow keras pandas numpy matplotlib; "
   ]
  },
  {
   "cell_type": "markdown",
   "metadata": {},
   "source": [
    "### Import Libraries"
   ]
  },
  {
   "cell_type": "code",
   "execution_count": 2,
   "metadata": {
    "ExecuteTime": {
     "end_time": "2021-09-13T13:12:01.693529Z",
     "start_time": "2021-09-13T13:12:01.693512Z"
    }
   },
   "outputs": [],
   "source": [
    "# import libraries\n",
    "import random\n",
    "from collections import deque\n",
    "from pathlib import Path\n",
    "import time\n",
    "\n",
    "\n",
    "import matplotlib.pyplot as plt\n",
    "import numpy as np\n",
    "import pandas as pd\n",
    "import requests\n",
    "from sklearn import preprocessing\n",
    "\n",
    "# Keras libraries\n",
    "from tensorflow.keras.models import Sequential\n",
    "from tensorflow.keras.optimizers import Adam\n",
    "from tensorflow.keras.layers import LSTM, Dense, Dropout, BatchNormalization\n",
    "from tensorflow.keras.callbacks import TensorBoard, ModelCheckpoint"
   ]
  },
  {
   "cell_type": "markdown",
   "metadata": {},
   "source": [
    "### Define constant variables"
   ]
  },
  {
   "cell_type": "markdown",
   "metadata": {},
   "source": [
    "##### Key concepts:\n",
    "- **Neural Network**: ![A basic neural network](https://nickmccullum.com/images/python-deep-learning/intuition-recurrent-neural-networks/basic-neural-network.png)\n",
    "- **Batches**: Total number of training samples that are fed one-by-one to the Neural Netwok\n",
    "- **Epoch**: One epoch is when the dataset has been passed forward and backward the RNN once. Therefore, the greater the number of epochs, the better the accuracy of the model. However, too many epochs could lead to overfitting\n",
    "- **Overfitting**: The model memorizes its behavior and therefore, it will perform on the training data but it will do poorly on the test or validation data."
   ]
  },
  {
   "cell_type": "code",
   "execution_count": 3,
   "metadata": {},
   "outputs": [],
   "source": [
    "PRECEDING_PRICES = 60  # preceeding 60 days prices\n",
    "FUTURE_PRICES_PREDICT = 3  # how far into the future to predict\n",
    "EPOCHS = 10  # how many times to train the model\n",
    "BATCH_SIZE = 64  # how many samples per batch\n",
    "TO_PREDICT = \"BTC-USD\"\n",
    "NAME = f\"{TO_PREDICT}-{PRECEDING_PRICES}-SEQ-{FUTURE_PRICES_PREDICT}-PRED-{int(time.time())}\" "
   ]
  },
  {
   "cell_type": "markdown",
   "metadata": {},
   "source": [
    "### The process of building a RNN\n",
    "#### **Input Data**: Combine price and volume for each coin into a single feature "
   ]
  },
  {
   "cell_type": "code",
   "execution_count": 4,
   "metadata": {
    "ExecuteTime": {
     "end_time": "2021-09-12T13:43:20.151383Z",
     "start_time": "2021-09-12T13:43:20.148675Z"
    }
   },
   "outputs": [
    {
     "name": "stdout",
     "output_type": "stream",
     "text": [
      "            ETH-USD_close  ETH-USD_volume  BTC-USD_close  BTC-USD_volume  \\\n",
      "time                                                                       \n",
      "1528968720      486.01001       26.019083    6487.379883        7.706374   \n",
      "1528968780      486.00000        8.449400    6479.410156        3.088252   \n",
      "1528968840      485.75000       26.994646    6479.410156        1.404100   \n",
      "1528968900      486.00000       77.355759    6479.979980        0.753000   \n",
      "1528968960      486.00000        7.503300    6480.000000        1.490900   \n",
      "\n",
      "            BCH-USD_close  BCH-USD_volume  LTC-USD_close  LTC-USD_volume  \n",
      "time                                                                      \n",
      "1528968720     870.859985       26.856577      96.660004      314.387024  \n",
      "1528968780     870.099976        1.124300      96.570000       77.129799  \n",
      "1528968840     870.789978        1.749862      96.500000        7.216067  \n",
      "1528968900     870.000000        1.680500      96.389999      524.539978  \n",
      "1528968960     869.989990        1.669014      96.519997       16.991997  \n"
     ]
    }
   ],
   "source": [
    "main_df = pd.DataFrame() \n",
    "\n",
    "data_directory: Path = Path(\"./crypto-data\")\n",
    "\n",
    "for file in data_directory.glob(\"*.csv\"):\n",
    "    file_name = file.name.split(\".\")[0]\n",
    "    df = pd.read_csv(f\"{data_directory.name}/{file.name}\", names = [\"time\", \"low\", \"high\", \"open\", \"close\", \"volume\"],  encoding=\"ISO-8859-1\")\n",
    "    df.rename(columns={\"close\": f\"{file_name}_close\", \"volume\": f\"{file_name}_volume\"}, inplace=True)\n",
    "    df.set_index(\"time\", inplace=True)\n",
    "    df = df[[f\"{file_name}_close\", f\"{file_name}_volume\"]]\n",
    "    df.dropna(inplace=True)\n",
    "    main_df = df if len(main_df) == 0 else main_df.join(df)\n",
    "\n",
    "main_df.fillna(method=\"ffill\", inplace=True) \n",
    "main_df.dropna(inplace=True)\n",
    "print(main_df.head())"
   ]
  },
  {
   "cell_type": "markdown",
   "metadata": {},
   "source": [
    "#### Define logic for making a decision (Buy/Sell)\n",
    "- If the \"future\" column is higher, we buy.\n",
    "- Else,we sell"
   ]
  },
  {
   "cell_type": "code",
   "execution_count": 5,
   "metadata": {},
   "outputs": [],
   "source": [
    "def make_order_decision(current_price, future_price):\n",
    "\tif float(current_price) < float(future_price): \n",
    "\t\treturn 1 # buy order\n",
    "\telse:\n",
    "\t\treturn 0"
   ]
  },
  {
   "cell_type": "markdown",
   "metadata": {},
   "source": [
    "#### Speculate future price based on closing prices from the past\n",
    "##### Choose target:\n",
    "- Price we are trying to predict\n",
    "- How far out in the future we are trying to predict\n"
   ]
  },
  {
   "cell_type": "code",
   "execution_count": 6,
   "metadata": {},
   "outputs": [],
   "source": [
    "main_df[\"future_price_to_predict\"] = main_df[f\"{TO_PREDICT}_close\"].shift(-FUTURE_PRICES_PREDICT) # negative to shift columnn up\n",
    "main_df[\"order_decision\"] = list(map(make_order_decision, main_df[f\"{TO_PREDICT}_close\"], main_df[\"future_price_to_predict\"]))\n",
    "main_df.dropna(inplace=True)"
   ]
  },
  {
   "cell_type": "markdown",
   "metadata": {},
   "source": [
    "### Prediction: \n",
    "#### Will price rise or fall? \n",
    "#### Should I buy or should I sell?\n",
    "##### Apply feature scaling to the dataset\n",
    "\n",
    "There are 2 alternatives:\n",
    "- Standardization\n",
    "- Normalization\n",
    "\n",
    "Since our output is trying to predict whether price will fall or rise for each cryptocurrencies:\n",
    "1. Take the price of all assets\n",
    "2. Pick a target and take its future price\n",
    "3. Choose a time frame step: how many observations should be considered when the RNN makes a prediction about the current observation.\n",
    "4. Make a decision about the classification function we will be using (how are we going to predict the price):\n",
    "a) Make it a regression question: using a linear activation with output lyer\n",
    "b) Use **binary classification** (we pick this one)"
   ]
  },
  {
   "cell_type": "markdown",
   "metadata": {},
   "source": [
    "##### 1. **Balance** the  buys and sells:  make sure that there are the same number of examples for each cryptocurrency (same number of recorded transactions for each coin)\n",
    "- a) Feed weights to the model to measure error accordingly\n",
    "- b) Trim down datasets to make them all have approximately the same number of transactions recorded\n",
    "- Not balancing could lead to a our model to predict only one coin, whichever is the most common, and memorize it\n",
    "##### 2. Scale and normalize the data\n",
    "- The order_decision column is not normalized"
   ]
  },
  {
   "cell_type": "markdown",
   "metadata": {},
   "source": [
    "#### Data validation, and sequence normalization\n",
    "1. Split training and test datasets: \n",
    "- Since the data is inherently sequential, taking sequeneces that do not come in the future is likely a mistake.\n",
    "2. Validate the data:\n",
    "- Sequences that are, for example, 1 minute apart, are likely to be the same, thus indicating an identical Buy or Sell signal. This might cause the model to be overfitted on the test split. In order to remediate this, the validation data is sliced while it is still in order\n",
    "3. Create random sequences and shuffle them before balancing\n"
   ]
  },
  {
   "cell_type": "code",
   "execution_count": 7,
   "metadata": {},
   "outputs": [],
   "source": [
    "def normalize_and_scale_df(df):\n",
    "\tdf = df.drop(\"future_price_to_predict\", axis=1)\n",
    "\tfor column in df.columns:\n",
    "\t\tif column != \"order_decision\":\n",
    "\t\t\tdf[column] = df[column].pct_change()\n",
    "\t\t\tdf.dropna(inplace=True)\n",
    "\t\t\tdf[column] = preprocessing.scale(df[column].values)\n",
    "\tdf.dropna(inplace=True)\n",
    "\tpredictions_sequence = []\n",
    "\tprevious_days_sequence = deque(maxlen=PRECEDING_PRICES)\t\n",
    "\tfor value in df.values:\n",
    "\t\tprevious_days_sequence.append([i for i in value[:-1]])\n",
    "\t\tif len(previous_days_sequence) == PRECEDING_PRICES:\n",
    "\t\t\tpredictions_sequence.append([np.array(previous_days_sequence), value[-1]])\n",
    "\trandom.shuffle(predictions_sequence)\n",
    "\tbuy_orders = []\n",
    "\tnot_buy_orders = []\n",
    "\tfor sequence, order_decision in predictions_sequence:\n",
    "\t\tif order_decision == 1:\n",
    "\t\t\tbuy_orders.append([sequence, order_decision])\n",
    "\t\telse:\n",
    "\t\t\tnot_buy_orders.append([sequence, order_decision])\n",
    "\trandom.shuffle(buy_orders)\n",
    "\trandom.shuffle(not_buy_orders)\n",
    "\tshorter_sequence = min(len(buy_orders), len(not_buy_orders))\n",
    "\tbuy_orders = buy_orders[:shorter_sequence]\n",
    "\tnot_buy_orders = not_buy_orders[:shorter_sequence]\n",
    "\tpredictions_sequence = buy_orders + not_buy_orders\n",
    "\trandom.shuffle(predictions_sequence)\n",
    "\tx_data = []\n",
    "\ty_data = []\n",
    "\tfor sequence, order_decision in predictions_sequence:\n",
    "\t\tx_data.append(sequence) \n",
    "\t\ty_data.append(order_decision)\n",
    "\treturn np.array(x_data), y_data"
   ]
  },
  {
   "cell_type": "code",
   "execution_count": 8,
   "metadata": {},
   "outputs": [
    {
     "name": "stdout",
     "output_type": "stream",
     "text": [
      "Shape of test data: (5141, 10)\n",
      "Shape of training data: (97687, 10)\n",
      "            ETH-USD_close  ETH-USD_volume  BTC-USD_close  BTC-USD_volume  \\\n",
      "time                                                                       \n",
      "1534904940     291.140015        6.290395    6705.200195        8.163854   \n",
      "1534905000     291.570007      489.621918    6700.000000        9.827062   \n",
      "1534905060     292.299988      173.859314    6700.000000       13.631424   \n",
      "1534905120     292.399994       77.035606    6702.359863       12.383007   \n",
      "1534905180     292.600006       89.692940    6711.560059       15.645502   \n",
      "\n",
      "            BCH-USD_close  BCH-USD_volume  LTC-USD_close  LTC-USD_volume  \\\n",
      "time                                                                       \n",
      "1534904940     559.989990        5.615524      58.220001      135.698441   \n",
      "1534905000     558.239990       35.015507      57.930000      864.464905   \n",
      "1534905060     560.640015       84.553719      58.250000      563.237671   \n",
      "1534905120     560.229980      101.587196      58.439999      422.931000   \n",
      "1534905180     560.979980       53.466728      58.450001       23.478930   \n",
      "\n",
      "            future_price_to_predict  order_decision  \n",
      "time                                                 \n",
      "1534904940              6702.359863               0  \n",
      "1534905000              6711.560059               1  \n",
      "1534905060              6710.000000               1  \n",
      "1534905120              6701.379883               0  \n",
      "1534905180              6704.790039               0  \n",
      "train data: 82722 test data: 4726\n",
      "Train Dont buys: 41361, buys: 41361\n",
      "Test Dont buys: 2363, buys: 2363\n"
     ]
    }
   ],
   "source": [
    "sorted_dates = sorted(main_df.index.values)\n",
    "last_5_percent = sorted(main_df.index.values)[-int(len(sorted_dates) * 0.05)]\n",
    "test_df = main_df[(main_df.index >= last_5_percent)]\n",
    "print(f\"Shape of test data: {test_df.shape}\")\n",
    "main_df = main_df[(main_df.index < last_5_percent)]\n",
    "print(f\"Shape of training data: {main_df.shape}\")\n",
    "# x_train is a numpy array of sequences\n",
    "# y_train is a list of buy or not to buy (1 or 0)\n",
    "x_train, y_train = normalize_and_scale_df(main_df)\n",
    "x_test, y_test = normalize_and_scale_df(test_df)\n",
    "print(test_df.head())\n",
    "\n",
    "print(f\"train data: {len(x_train)} test data: {len(x_test)}\")\n",
    "print(f\"Train Dont buys: {y_train.count(0)}, buys: {y_train.count(1)}\")\n",
    "print(f\"Test Dont buys: {y_test.count(0)}, buys: {y_test.count(1)}\")"
   ]
  },
  {
   "cell_type": "markdown",
   "metadata": {},
   "source": [
    "#### Build and train the model"
   ]
  },
  {
   "cell_type": "code",
   "execution_count": 9,
   "metadata": {},
   "outputs": [
    {
     "name": "stderr",
     "output_type": "stream",
     "text": [
      "2021-11-16 16:46:25.430608: I tensorflow/core/platform/cpu_feature_guard.cc:151] This TensorFlow binary is optimized with oneAPI Deep Neural Network Library (oneDNN) to use the following CPU instructions in performance-critical operations:  AVX2 FMA\n",
      "To enable them in other operations, rebuild TensorFlow with the appropriate compiler flags.\n"
     ]
    }
   ],
   "source": [
    "model = Sequential()\n",
    "model.add(LSTM(128, input_shape=(x_train.shape[1:]), return_sequences=True))\n",
    "model.add(Dropout(0.2))\n",
    "model.add(BatchNormalization()) \n",
    "\n",
    "model.add(LSTM(128, return_sequences=True))\n",
    "model.add(Dropout(0.1))\n",
    "model.add(BatchNormalization())\n",
    "\n",
    "model.add(LSTM(128))\n",
    "model.add(Dropout(0.2))\n",
    "model.add(BatchNormalization())\n",
    "\n",
    "model.add(Dense(32, activation='relu'))\n",
    "model.add(Dropout(0.2))\n",
    "\n",
    "model.add(Dense(2, activation='softmax'))"
   ]
  },
  {
   "cell_type": "markdown",
   "metadata": {},
   "source": [
    "##### Model Compilation Settings: Adam Optimizier"
   ]
  },
  {
   "cell_type": "code",
   "execution_count": 10,
   "metadata": {},
   "outputs": [],
   "source": [
    "opt = Adam(learning_rate=0.001, decay=1e-6)\n",
    "\n",
    "# Compile model\n",
    "model.compile(\n",
    "    loss='sparse_categorical_crossentropy',\n",
    "    optimizer=opt,\n",
    "    metrics=['accuracy']\n",
    ")\n",
    "tensorboard = TensorBoard(log_dir=\"logs/{}\".format(NAME))"
   ]
  },
  {
   "cell_type": "markdown",
   "metadata": {},
   "source": [
    "##### Model Checkpoint"
   ]
  },
  {
   "cell_type": "code",
   "execution_count": 11,
   "metadata": {},
   "outputs": [],
   "source": [
    "model_checkpoint = \"RNN_Final-{epoch:02d}-{val_accuracy:.3f}\"  \n",
    "checkpoint = ModelCheckpoint(\"models/{}.model\".format(model_checkpoint, monitor='val_accuracy', verbose=1, save_best_only=True, mode='max'))"
   ]
  },
  {
   "cell_type": "markdown",
   "metadata": {},
   "source": [
    "##### Traning phase"
   ]
  },
  {
   "cell_type": "code",
   "execution_count": 12,
   "metadata": {},
   "outputs": [
    {
     "name": "stdout",
     "output_type": "stream",
     "text": [
      "Epoch 1/10\n",
      "1293/1293 [==============================] - ETA: 0s - loss: 0.6930 - accuracy: 0.5472"
     ]
    },
    {
     "name": "stderr",
     "output_type": "stream",
     "text": [
      "2021-11-16 16:49:47.925878: W tensorflow/python/util/util.cc:368] Sets are not currently considered sequences, but this may change in the future, so consider avoiding using them.\n",
      "WARNING:absl:Found untraced functions such as lstm_cell_layer_call_fn, lstm_cell_layer_call_and_return_conditional_losses, lstm_cell_1_layer_call_fn, lstm_cell_1_layer_call_and_return_conditional_losses, lstm_cell_2_layer_call_fn while saving (showing 5 of 15). These functions will not be directly callable after loading.\n"
     ]
    },
    {
     "name": "stdout",
     "output_type": "stream",
     "text": [
      "INFO:tensorflow:Assets written to: models/RNN_Final-01-0.531.model/assets\n"
     ]
    },
    {
     "name": "stderr",
     "output_type": "stream",
     "text": [
      "INFO:tensorflow:Assets written to: models/RNN_Final-01-0.531.model/assets\n",
      "WARNING:absl:<keras.layers.recurrent.LSTMCell object at 0x157f16490> has the same name 'LSTMCell' as a built-in Keras object. Consider renaming <class 'keras.layers.recurrent.LSTMCell'> to avoid naming conflicts when loading with `tf.keras.models.load_model`. If renaming is not possible, pass the object in the `custom_objects` parameter of the load function.\n",
      "WARNING:absl:<keras.layers.recurrent.LSTMCell object at 0x15858d640> has the same name 'LSTMCell' as a built-in Keras object. Consider renaming <class 'keras.layers.recurrent.LSTMCell'> to avoid naming conflicts when loading with `tf.keras.models.load_model`. If renaming is not possible, pass the object in the `custom_objects` parameter of the load function.\n",
      "WARNING:absl:<keras.layers.recurrent.LSTMCell object at 0x15863e610> has the same name 'LSTMCell' as a built-in Keras object. Consider renaming <class 'keras.layers.recurrent.LSTMCell'> to avoid naming conflicts when loading with `tf.keras.models.load_model`. If renaming is not possible, pass the object in the `custom_objects` parameter of the load function.\n"
     ]
    },
    {
     "name": "stdout",
     "output_type": "stream",
     "text": [
      "1293/1293 [==============================] - 209s 157ms/step - loss: 0.6930 - accuracy: 0.5472 - val_loss: 0.6893 - val_accuracy: 0.5307\n",
      "Epoch 2/10\n",
      " 178/1293 [===>..........................] - ETA: 3:18 - loss: 0.6568 - accuracy: 0.5721"
     ]
    }
   ],
   "source": [
    "history = model.fit(\n",
    "    x_train, np.array(y_train),\n",
    "    batch_size=BATCH_SIZE,\n",
    "    epochs=EPOCHS,\n",
    "    validation_data=(x_test, np.array(y_test)),\n",
    "    callbacks=[tensorboard, checkpoint],\n",
    ")"
   ]
  },
  {
   "cell_type": "markdown",
   "metadata": {},
   "source": [
    "#### Save Model Score"
   ]
  },
  {
   "cell_type": "code",
   "execution_count": null,
   "metadata": {},
   "outputs": [
    {
     "name": "stdout",
     "output_type": "stream",
     "text": [
      "Test loss: 0.6935529708862305\n",
      "Test accuracy: 0.48899704217910767\n"
     ]
    },
    {
     "name": "stderr",
     "output_type": "stream",
     "text": [
      "2021-11-16 16:45:06.482019: W tensorflow/python/util/util.cc:368] Sets are not currently considered sequences, but this may change in the future, so consider avoiding using them.\n",
      "WARNING:absl:Found untraced functions such as lstm_cell_layer_call_fn, lstm_cell_layer_call_and_return_conditional_losses, lstm_cell_1_layer_call_fn, lstm_cell_1_layer_call_and_return_conditional_losses, lstm_cell_2_layer_call_fn while saving (showing 5 of 15). These functions will not be directly callable after loading.\n"
     ]
    },
    {
     "name": "stdout",
     "output_type": "stream",
     "text": [
      "INFO:tensorflow:Assets written to: models/BTC-USD-60-SEQ-3-PRED-1637099034/assets\n"
     ]
    },
    {
     "name": "stderr",
     "output_type": "stream",
     "text": [
      "INFO:tensorflow:Assets written to: models/BTC-USD-60-SEQ-3-PRED-1637099034/assets\n",
      "WARNING:absl:<keras.layers.recurrent.LSTMCell object at 0x150e064c0> has the same name 'LSTMCell' as a built-in Keras object. Consider renaming <class 'keras.layers.recurrent.LSTMCell'> to avoid naming conflicts when loading with `tf.keras.models.load_model`. If renaming is not possible, pass the object in the `custom_objects` parameter of the load function.\n",
      "WARNING:absl:<keras.layers.recurrent.LSTMCell object at 0x151429fd0> has the same name 'LSTMCell' as a built-in Keras object. Consider renaming <class 'keras.layers.recurrent.LSTMCell'> to avoid naming conflicts when loading with `tf.keras.models.load_model`. If renaming is not possible, pass the object in the `custom_objects` parameter of the load function.\n",
      "WARNING:absl:<keras.layers.recurrent.LSTMCell object at 0x15182e7c0> has the same name 'LSTMCell' as a built-in Keras object. Consider renaming <class 'keras.layers.recurrent.LSTMCell'> to avoid naming conflicts when loading with `tf.keras.models.load_model`. If renaming is not possible, pass the object in the `custom_objects` parameter of the load function.\n"
     ]
    }
   ],
   "source": [
    "model_score = model.evaluate(x_test, np.array(y_test), verbose=0)\n",
    "print('Test loss:', model_score[0])\n",
    "print('Test accuracy:', model_score[1])\n",
    "model.save(\"models/{}\".format(NAME))"
   ]
  },
  {
   "cell_type": "code",
   "execution_count": null,
   "metadata": {},
   "outputs": [
    {
     "name": "stdout",
     "output_type": "stream",
     "text": [
      "\n",
      "NOTE: Using experimental fast data loading logic. To disable, pass\n",
      "    \"--load_fast=false\" and report issues on GitHub. More details:\n",
      "    https://github.com/tensorflow/tensorboard/issues/4784\n",
      "\n",
      "Serving TensorBoard on localhost; to expose to the network, use a proxy or pass --bind_all\n",
      "TensorBoard 2.7.0 at http://localhost:6006/ (Press CTRL+C to quit)\n"
     ]
    }
   ],
   "source": [
    "!tensorboard --logdir=logs"
   ]
  }
 ],
 "metadata": {
  "interpreter": {
   "hash": "15a757f8f00fad619421bab2b503c8d2e99a7a50c62ea181f51efe2214d5f66c"
  },
  "kernelspec": {
   "display_name": "Python 3.8.0 64-bit ('venv': venv)",
   "name": "python3"
  },
  "language_info": {
   "codemirror_mode": {
    "name": "ipython",
    "version": 3
   },
   "file_extension": ".py",
   "mimetype": "text/x-python",
   "name": "python",
   "nbconvert_exporter": "python",
   "pygments_lexer": "ipython3",
   "version": "3.9.2"
  },
  "toc": {
   "base_numbering": 1,
   "nav_menu": {},
   "number_sections": true,
   "sideBar": true,
   "skip_h1_title": false,
   "title_cell": "Table of Contents",
   "title_sidebar": "Contents",
   "toc_cell": false,
   "toc_position": {},
   "toc_section_display": true,
   "toc_window_display": false
  },
  "varInspector": {
   "cols": {
    "lenName": 16,
    "lenType": 16,
    "lenVar": 40
   },
   "kernels_config": {
    "python": {
     "delete_cmd_postfix": "",
     "delete_cmd_prefix": "del ",
     "library": "var_list.py",
     "varRefreshCmd": "print(var_dic_list())"
    },
    "r": {
     "delete_cmd_postfix": ") ",
     "delete_cmd_prefix": "rm(",
     "library": "var_list.r",
     "varRefreshCmd": "cat(var_dic_list()) "
    }
   },
   "types_to_exclude": [
    "module",
    "function",
    "builtin_function_or_method",
    "instance",
    "_Feature"
   ],
   "window_display": false
  }
 },
 "nbformat": 4,
 "nbformat_minor": 4
}
